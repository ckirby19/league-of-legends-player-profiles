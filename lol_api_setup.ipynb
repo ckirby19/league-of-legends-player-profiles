{
 "cells": [
  {
   "cell_type": "code",
   "execution_count": 53,
   "id": "4715f270",
   "metadata": {},
   "outputs": [],
   "source": [
    "import pandas as pd\n",
    "import plotly.graph_objects as go\n",
    "from plotly.subplots import make_subplots\n",
    "import plotly.graph_objects as go"
   ]
  },
  {
   "cell_type": "code",
   "execution_count": 47,
   "id": "fa2c8009",
   "metadata": {},
   "outputs": [],
   "source": [
    "import requests\n",
    "\n",
    "url = 'https://raw.githubusercontent.com/ckirby19/league-of-legends-player-profiles/api_data/json_data_test.json'\n",
    "response = requests.get(url)\n",
    "d = response.json()"
   ]
  },
  {
   "cell_type": "code",
   "execution_count": 48,
   "id": "a5131ac7",
   "metadata": {},
   "outputs": [],
   "source": [
    "frames = d['info']['frames']"
   ]
  },
  {
   "cell_type": "code",
   "execution_count": 49,
   "id": "c0edd7b4",
   "metadata": {},
   "outputs": [
    {
     "data": {
      "text/plain": [
       "30"
      ]
     },
     "execution_count": 49,
     "metadata": {},
     "output_type": "execute_result"
    }
   ],
   "source": [
    "len(frames)"
   ]
  },
  {
   "cell_type": "code",
   "execution_count": 50,
   "id": "32d1de4c",
   "metadata": {},
   "outputs": [
    {
     "name": "stdout",
     "output_type": "stream",
     "text": [
      "{'time': 0, 'gold_advantage': 0, 'xp_advantage': 0, 'p_win_gold': 0.5, 'p_win_xp': 0.5, 'p_final': 0.5}\n",
      "{'time': 60001, 'gold_advantage': 0, 'xp_advantage': 0, 'p_win_gold': 0.5, 'p_win_xp': 0.5, 'p_final': 0.5}\n",
      "{'time': 120019, 'gold_advantage': 98, 'xp_advantage': 298, 'p_win_gold': 0.512584139871822, 'p_win_xp': 0.6166753125648154, 'p_final': 0.5646297262183188}\n",
      "{'time': 180025, 'gold_advantage': -95, 'xp_advantage': -15, 'p_win_gold': 0.49220579875420256, 'p_win_xp': 0.4984608044524197, 'p_final': 0.4953333016033111}\n",
      "{'time': 240058, 'gold_advantage': 281, 'xp_advantage': 73, 'p_win_gold': 0.5172806830623874, 'p_win_xp': 0.5048122581349023, 'p_final': 0.5110464705986448}\n",
      "{'time': 300104, 'gold_advantage': 522, 'xp_advantage': 540, 'p_win_gold': 0.5254066154666989, 'p_win_xp': 0.5251528573466913, 'p_final': 0.525279736406695}\n",
      "{'time': 360124, 'gold_advantage': 1639, 'xp_advantage': 535, 'p_win_gold': 0.5639386947576625, 'p_win_xp': 0.52027024250378, 'p_final': 0.5421044686307213}\n",
      "{'time': 420145, 'gold_advantage': 920, 'xp_advantage': -397, 'p_win_gold': 0.5311850963374845, 'p_win_xp': 0.48742385368053615, 'p_final': 0.5093044750090103}\n",
      "{'time': 480163, 'gold_advantage': 953, 'xp_advantage': -479, 'p_win_gold': 0.5280449636979778, 'p_win_xp': 0.48747486849036153, 'p_final': 0.5077599160941697}\n",
      "{'time': 540163, 'gold_advantage': 975, 'xp_advantage': -146, 'p_win_gold': 0.5259648509348556, 'p_win_xp': 0.4966168488038218, 'p_final': 0.5112908498693387}\n",
      "{'time': 600190, 'gold_advantage': 1026, 'xp_advantage': -156, 'p_win_gold': 0.5244224242164404, 'p_win_xp': 0.4967945449453057, 'p_final': 0.510608484580873}\n",
      "{'time': 660191, 'gold_advantage': 1124, 'xp_advantage': 84, 'p_win_gold': 0.5241332373207352, 'p_win_xp': 0.5015581689428716, 'p_final': 0.5128457031318034}\n",
      "{'time': 720214, 'gold_advantage': 2357, 'xp_advantage': 1403, 'p_win_gold': 0.5455854631185776, 'p_win_xp': 0.5237028024063928, 'p_final': 0.5346441327624851}\n",
      "{'time': 780224, 'gold_advantage': 2005, 'xp_advantage': 755, 'p_win_gold': 0.5359121191028784, 'p_win_xp': 0.5114886397151807, 'p_final': 0.5237003794090296}\n",
      "{'time': 840224, 'gold_advantage': 1980, 'xp_advantage': 665, 'p_win_gold': 0.5328611184582978, 'p_win_xp': 0.5091880618439113, 'p_final': 0.5210245901511046}\n",
      "{'time': 900244, 'gold_advantage': 5328, 'xp_advantage': 4985, 'p_win_gold': 0.5793953049806412, 'p_win_xp': 0.5629166010372493, 'p_final': 0.5711559530089452}\n",
      "{'time': 960251, 'gold_advantage': 6604, 'xp_advantage': 4609, 'p_win_gold': 0.5897286554132888, 'p_win_xp': 0.5534552429803333, 'p_final': 0.5715919491968111}\n",
      "{'time': 1020257, 'gold_advantage': 6775, 'xp_advantage': 3935, 'p_win_gold': 0.5871369633802738, 'p_win_xp': 0.5424725788191609, 'p_final': 0.5648047710997173}\n",
      "{'time': 1080280, 'gold_advantage': 6664, 'xp_advantage': 4105, 'p_win_gold': 0.5786456312645499, 'p_win_xp': 0.541064892323609, 'p_final': 0.5598552617940795}\n",
      "{'time': 1140296, 'gold_advantage': 6006, 'xp_advantage': 4258, 'p_win_gold': 0.5668521649470235, 'p_win_xp': 0.5404702155295461, 'p_final': 0.5536611902382849}\n",
      "{'time': 1200319, 'gold_advantage': 7876, 'xp_advantage': 6394, 'p_win_gold': 0.5818975993377304, 'p_win_xp': 0.556691100339609, 'p_final': 0.5692943498386698}\n",
      "{'time': 1260350, 'gold_advantage': 7644, 'xp_advantage': 6565, 'p_win_gold': 0.5745646120924097, 'p_win_xp': 0.5545154736106936, 'p_final': 0.5645400428515517}\n",
      "{'time': 1320380, 'gold_advantage': 8697, 'xp_advantage': 7826, 'p_win_gold': 0.5811915698251652, 'p_win_xp': 0.5626338294513925, 'p_final': 0.5719126996382788}\n",
      "{'time': 1380383, 'gold_advantage': 7541, 'xp_advantage': 7555, 'p_win_gold': 0.5663942553639253, 'p_win_xp': 0.5568635665402653, 'p_final': 0.5616289109520953}\n",
      "{'time': 1440405, 'gold_advantage': 7179, 'xp_advantage': 6155, 'p_win_gold': 0.5610146418616636, 'p_win_xp': 0.544252304866759, 'p_final': 0.5526334733642113}\n",
      "{'time': 1500406, 'gold_advantage': 8037, 'xp_advantage': 8286, 'p_win_gold': 0.5650700988922032, 'p_win_xp': 0.5566718179430916, 'p_final': 0.5608709584176474}\n",
      "{'time': 1560426, 'gold_advantage': 8253, 'xp_advantage': 9710, 'p_win_gold': 0.5636935517171106, 'p_win_xp': 0.5636811199778733, 'p_final': 0.5636873358474919}\n",
      "{'time': 1620444, 'gold_advantage': 9114, 'xp_advantage': 12042, 'p_win_gold': 0.5674358921482676, 'p_win_xp': 0.5745754309558699, 'p_final': 0.5710056615520688}\n",
      "{'time': 1680445, 'gold_advantage': 8266, 'xp_advantage': 10852, 'p_win_gold': 0.5580025586921887, 'p_win_xp': 0.5638311242201931, 'p_final': 0.5609168414561909}\n",
      "{'time': 1734257, 'gold_advantage': 10198, 'xp_advantage': 12424, 'p_win_gold': 0.5676911189303391, 'p_win_xp': 0.5693042894299143, 'p_final': 0.5684977041801267}\n"
     ]
    }
   ],
   "source": [
    "def compute_totals(frame, metric=\"totalGold\"):\n",
    "    team1 = sum(p[metric] for pid, p in frame[\"participantFrames\"].items() if int(pid) <= 5)\n",
    "    team2 = sum(p[metric] for pid, p in frame[\"participantFrames\"].items() if int(pid) > 5)\n",
    "    return team1, team2\n",
    "\n",
    "def pythagorean_expectation(s1, s2, alpha=1.5):\n",
    "    denominator = (s1 ** alpha + s2 ** alpha)\n",
    "    if denominator == 0:\n",
    "        return 0.5 \n",
    "    return (s1 ** alpha) / denominator\n",
    "\n",
    "results = []\n",
    "for frame in frames:\n",
    "    t = frame[\"timestamp\"]\n",
    "    g1, g2 = compute_totals(frame, \"totalGold\")\n",
    "    x1, x2 = compute_totals(frame, \"xp\")\n",
    "\n",
    "    p_gold = pythagorean_expectation(g1, g2)\n",
    "    p_xp   = pythagorean_expectation(x1, x2)\n",
    "    p_final = (p_gold + p_xp) / 2  # simple average\n",
    "\n",
    "    results.append({\n",
    "        \"time\": t,\n",
    "        \"gold_advantage\": g1 - g2,\n",
    "        \"xp_advantage\": x1 - x2,\n",
    "        \"p_win_gold\": p_gold,\n",
    "        \"p_win_xp\": p_xp,\n",
    "        \"p_final\": p_final\n",
    "    })\n",
    "\n",
    "# Example: print first few\n",
    "for r in results:\n",
    "    print(r)"
   ]
  },
  {
   "cell_type": "code",
   "execution_count": 51,
   "id": "d28d6a74",
   "metadata": {},
   "outputs": [],
   "source": [
    "ALPHA = 1.5\n",
    "\n",
    "frames = d[\"info\"][\"frames\"]\n",
    "frame_interval_ms = d[\"info\"].get(\"frameInterval\", 60000)\n",
    "\n",
    "def compute_team_totals(frame, metric: str):\n",
    "    t1 = 0\n",
    "    t2 = 0\n",
    "    for pid_str, pf in frame[\"participantFrames\"].items():\n",
    "        pid = int(pid_str)\n",
    "        val = pf.get(metric, 0) or 0\n",
    "        if pid <= 5:\n",
    "            t1 += val\n",
    "        else:\n",
    "            t2 += val\n",
    "    return t1, t2\n",
    "\n",
    "def pythag_expectation(s1, s2, alpha=ALPHA):\n",
    "    # Guard against degenerate cases\n",
    "    s1a = float(s1)**alpha if s1 > 0 else 0.0\n",
    "    s2a = float(s2)**alpha if s2 > 0 else 0.0\n",
    "    denom = s1a + s2a\n",
    "    if denom == 0:\n",
    "        return 0.5\n",
    "    return s1a / denom\n",
    "\n",
    "rows = []\n",
    "for f in frames:\n",
    "    t_ms = f.get(\"timestamp\", 0)\n",
    "    t_min = t_ms / 60000.0  # convert ms -> minutes\n",
    "    \n",
    "    g1, g2 = compute_team_totals(f, \"totalGold\")\n",
    "    x1, x2 = compute_team_totals(f, \"xp\")\n",
    "    \n",
    "    p_gold = pythag_expectation(g1, g2, ALPHA)\n",
    "    p_xp   = pythag_expectation(x1, x2, ALPHA)\n",
    "    p_final = (p_gold + p_xp) / 2.0\n",
    "    \n",
    "    rows.append({\n",
    "        \"time_min\": t_min,\n",
    "        \"gold_team1\": g1,\n",
    "        \"gold_team2\": g2,\n",
    "        \"gold_adv\": g1 - g2,\n",
    "        \"xp_team1\": x1,\n",
    "        \"xp_team2\": x2,\n",
    "        \"xp_adv\": x1 - x2,\n",
    "        \"p_win_gold\": p_gold,\n",
    "        \"p_win_xp\": p_xp,\n",
    "        \"p_win_final\": p_final\n",
    "    })\n",
    "\n",
    "df = pd.DataFrame(rows)"
   ]
  },
  {
   "cell_type": "code",
   "execution_count": 43,
   "id": "b562c238",
   "metadata": {},
   "outputs": [
    {
     "data": {
      "application/vnd.microsoft.datawrangler.viewer.v0+json": {
       "columns": [
        {
         "name": "index",
         "rawType": "int64",
         "type": "integer"
        },
        {
         "name": "time_min",
         "rawType": "float64",
         "type": "float"
        },
        {
         "name": "gold_team1",
         "rawType": "int64",
         "type": "integer"
        },
        {
         "name": "gold_team2",
         "rawType": "int64",
         "type": "integer"
        },
        {
         "name": "gold_adv",
         "rawType": "int64",
         "type": "integer"
        },
        {
         "name": "xp_team1",
         "rawType": "int64",
         "type": "integer"
        },
        {
         "name": "xp_team2",
         "rawType": "int64",
         "type": "integer"
        },
        {
         "name": "xp_adv",
         "rawType": "int64",
         "type": "integer"
        },
        {
         "name": "p_win_gold",
         "rawType": "float64",
         "type": "float"
        },
        {
         "name": "p_win_xp",
         "rawType": "float64",
         "type": "float"
        },
        {
         "name": "p_win_final",
         "rawType": "float64",
         "type": "float"
        }
       ],
       "ref": "b035ac3e-5891-4804-a197-467f984451d0",
       "rows": [
        [
         "0",
         "0.0",
         "2500",
         "2500",
         "0",
         "0",
         "0",
         "0",
         "0.5",
         "0.5",
         "0.5"
        ],
        [
         "1",
         "1.0000166666666668",
         "2500",
         "2500",
         "0",
         "0",
         "0",
         "0",
         "0.5",
         "0.5",
         "0.5"
        ],
        [
         "2",
         "2.0003166666666665",
         "2969",
         "2871",
         "98",
         "1097",
         "799",
         "298",
         "0.512584139871822",
         "0.6166753125648154",
         "0.5646297262183188"
        ],
        [
         "3",
         "3.0004166666666667",
         "4523",
         "4618",
         "-95",
         "3647",
         "3662",
         "-15",
         "0.49220579875420256",
         "0.4984608044524197",
         "0.4953333016033111"
        ],
        [
         "4",
         "4.000966666666667",
         "6237",
         "5956",
         "281",
         "5725",
         "5652",
         "73",
         "0.5172806830623874",
         "0.5048122581349023",
         "0.5110464705986448"
        ]
       ],
       "shape": {
        "columns": 10,
        "rows": 5
       }
      },
      "text/html": [
       "<div>\n",
       "<style scoped>\n",
       "    .dataframe tbody tr th:only-of-type {\n",
       "        vertical-align: middle;\n",
       "    }\n",
       "\n",
       "    .dataframe tbody tr th {\n",
       "        vertical-align: top;\n",
       "    }\n",
       "\n",
       "    .dataframe thead th {\n",
       "        text-align: right;\n",
       "    }\n",
       "</style>\n",
       "<table border=\"1\" class=\"dataframe\">\n",
       "  <thead>\n",
       "    <tr style=\"text-align: right;\">\n",
       "      <th></th>\n",
       "      <th>time_min</th>\n",
       "      <th>gold_team1</th>\n",
       "      <th>gold_team2</th>\n",
       "      <th>gold_adv</th>\n",
       "      <th>xp_team1</th>\n",
       "      <th>xp_team2</th>\n",
       "      <th>xp_adv</th>\n",
       "      <th>p_win_gold</th>\n",
       "      <th>p_win_xp</th>\n",
       "      <th>p_win_final</th>\n",
       "    </tr>\n",
       "  </thead>\n",
       "  <tbody>\n",
       "    <tr>\n",
       "      <th>0</th>\n",
       "      <td>0.000000</td>\n",
       "      <td>2500</td>\n",
       "      <td>2500</td>\n",
       "      <td>0</td>\n",
       "      <td>0</td>\n",
       "      <td>0</td>\n",
       "      <td>0</td>\n",
       "      <td>0.500000</td>\n",
       "      <td>0.500000</td>\n",
       "      <td>0.500000</td>\n",
       "    </tr>\n",
       "    <tr>\n",
       "      <th>1</th>\n",
       "      <td>1.000017</td>\n",
       "      <td>2500</td>\n",
       "      <td>2500</td>\n",
       "      <td>0</td>\n",
       "      <td>0</td>\n",
       "      <td>0</td>\n",
       "      <td>0</td>\n",
       "      <td>0.500000</td>\n",
       "      <td>0.500000</td>\n",
       "      <td>0.500000</td>\n",
       "    </tr>\n",
       "    <tr>\n",
       "      <th>2</th>\n",
       "      <td>2.000317</td>\n",
       "      <td>2969</td>\n",
       "      <td>2871</td>\n",
       "      <td>98</td>\n",
       "      <td>1097</td>\n",
       "      <td>799</td>\n",
       "      <td>298</td>\n",
       "      <td>0.512584</td>\n",
       "      <td>0.616675</td>\n",
       "      <td>0.564630</td>\n",
       "    </tr>\n",
       "    <tr>\n",
       "      <th>3</th>\n",
       "      <td>3.000417</td>\n",
       "      <td>4523</td>\n",
       "      <td>4618</td>\n",
       "      <td>-95</td>\n",
       "      <td>3647</td>\n",
       "      <td>3662</td>\n",
       "      <td>-15</td>\n",
       "      <td>0.492206</td>\n",
       "      <td>0.498461</td>\n",
       "      <td>0.495333</td>\n",
       "    </tr>\n",
       "    <tr>\n",
       "      <th>4</th>\n",
       "      <td>4.000967</td>\n",
       "      <td>6237</td>\n",
       "      <td>5956</td>\n",
       "      <td>281</td>\n",
       "      <td>5725</td>\n",
       "      <td>5652</td>\n",
       "      <td>73</td>\n",
       "      <td>0.517281</td>\n",
       "      <td>0.504812</td>\n",
       "      <td>0.511046</td>\n",
       "    </tr>\n",
       "  </tbody>\n",
       "</table>\n",
       "</div>"
      ],
      "text/plain": [
       "   time_min  gold_team1  gold_team2  gold_adv  xp_team1  xp_team2  xp_adv  \\\n",
       "0  0.000000        2500        2500         0         0         0       0   \n",
       "1  1.000017        2500        2500         0         0         0       0   \n",
       "2  2.000317        2969        2871        98      1097       799     298   \n",
       "3  3.000417        4523        4618       -95      3647      3662     -15   \n",
       "4  4.000967        6237        5956       281      5725      5652      73   \n",
       "\n",
       "   p_win_gold  p_win_xp  p_win_final  \n",
       "0    0.500000  0.500000     0.500000  \n",
       "1    0.500000  0.500000     0.500000  \n",
       "2    0.512584  0.616675     0.564630  \n",
       "3    0.492206  0.498461     0.495333  \n",
       "4    0.517281  0.504812     0.511046  "
      ]
     },
     "metadata": {},
     "output_type": "display_data"
    }
   ],
   "source": [
    "display(df.head())"
   ]
  },
  {
   "cell_type": "code",
   "execution_count": 60,
   "id": "f31e26af",
   "metadata": {},
   "outputs": [
    {
     "data": {
      "application/vnd.plotly.v1+json": {
       "config": {
        "plotlyServerURL": "https://plot.ly"
       },
       "data": [
        {
         "line": {
          "color": "#F2B705",
          "shape": "spline",
          "width": 4
         },
         "mode": "lines",
         "name": "P(win) – Team 1 (Gold+XP)",
         "type": "scatter",
         "x": {
          "bdata": "AAAAAAAAAAC+nOx5EQDwPwjRRwamAABAQacNdNoACEC84OZn/QAQQD/rB2LGARRA8/qmwx0CGEDWMcGDeQIcQJX5NBRkASBAlfk0FGQBIkCVirMPnwEkQC0e8T6hASZAzWB5fdMBKEC6JOFV6QEqQLok4VXpASxAlKywBhUCLkDd2q8oEgEwQKSVaLYYATFA9Las1TEBMkCyU5lPQwEzQAJ13W5cATRAseQXS34BNUCVirMPnwE2QPjnj1aiATdAfT81XroBOEBJCdR1uwE5QDbNO07RATpAi/1l9+QBO0BXxwQP5gE8QAr8zhx/5zxA",
          "dtype": "f8"
         },
         "y": {
          "bdata": "AAAAAAAA4D8AAAAAAADgP6ugDlxyEeI/FmHAcoqz3z8Qo74gflrgP8DII3MXz+A/2hl5eOtY4T9C2PvlOEzgP2IDO7mRP+A/9NndoH5c4D8TuMqa51bgPwwMW2Q7aeA/LNImA84b4T/K3U5MJ8LgP6iL48I7rOA/LNpi2ehG4j9coQ4ze0riPwrwj3ThEuI/WMX8lFXq4T9qaSSsl7fhP3RZy8ioN+I/KI6qR7YQ4j+eoaPcG03iPwTgoDHd+OE/CsbYZCyv4T9UwvWmp/LhP5BMFAa6CeI/qU1Gqq1F4j8CjzrgB/PhP1LA6RgiMeI/",
          "dtype": "f8"
         }
        }
       ],
       "layout": {
        "hovermode": "x unified",
        "margin": {
         "b": 50,
         "l": 60,
         "r": 30,
         "t": 60
        },
        "paper_bgcolor": "#1f1f1f",
        "plot_bgcolor": "#1f1f1f",
        "shapes": [
         {
          "line": {
           "color": "rgba(255,255,255,0.6)",
           "dash": "dash",
           "width": 1
          },
          "type": "line",
          "x0": 0,
          "x1": 1,
          "xref": "x domain",
          "y0": 0.5,
          "y1": 0.5,
          "yref": "y"
         }
        ],
        "template": {
         "data": {
          "bar": [
           {
            "error_x": {
             "color": "#f2f5fa"
            },
            "error_y": {
             "color": "#f2f5fa"
            },
            "marker": {
             "line": {
              "color": "rgb(17,17,17)",
              "width": 0.5
             },
             "pattern": {
              "fillmode": "overlay",
              "size": 10,
              "solidity": 0.2
             }
            },
            "type": "bar"
           }
          ],
          "barpolar": [
           {
            "marker": {
             "line": {
              "color": "rgb(17,17,17)",
              "width": 0.5
             },
             "pattern": {
              "fillmode": "overlay",
              "size": 10,
              "solidity": 0.2
             }
            },
            "type": "barpolar"
           }
          ],
          "carpet": [
           {
            "aaxis": {
             "endlinecolor": "#A2B1C6",
             "gridcolor": "#506784",
             "linecolor": "#506784",
             "minorgridcolor": "#506784",
             "startlinecolor": "#A2B1C6"
            },
            "baxis": {
             "endlinecolor": "#A2B1C6",
             "gridcolor": "#506784",
             "linecolor": "#506784",
             "minorgridcolor": "#506784",
             "startlinecolor": "#A2B1C6"
            },
            "type": "carpet"
           }
          ],
          "choropleth": [
           {
            "colorbar": {
             "outlinewidth": 0,
             "ticks": ""
            },
            "type": "choropleth"
           }
          ],
          "contour": [
           {
            "colorbar": {
             "outlinewidth": 0,
             "ticks": ""
            },
            "colorscale": [
             [
              0,
              "#0d0887"
             ],
             [
              0.1111111111111111,
              "#46039f"
             ],
             [
              0.2222222222222222,
              "#7201a8"
             ],
             [
              0.3333333333333333,
              "#9c179e"
             ],
             [
              0.4444444444444444,
              "#bd3786"
             ],
             [
              0.5555555555555556,
              "#d8576b"
             ],
             [
              0.6666666666666666,
              "#ed7953"
             ],
             [
              0.7777777777777778,
              "#fb9f3a"
             ],
             [
              0.8888888888888888,
              "#fdca26"
             ],
             [
              1,
              "#f0f921"
             ]
            ],
            "type": "contour"
           }
          ],
          "contourcarpet": [
           {
            "colorbar": {
             "outlinewidth": 0,
             "ticks": ""
            },
            "type": "contourcarpet"
           }
          ],
          "heatmap": [
           {
            "colorbar": {
             "outlinewidth": 0,
             "ticks": ""
            },
            "colorscale": [
             [
              0,
              "#0d0887"
             ],
             [
              0.1111111111111111,
              "#46039f"
             ],
             [
              0.2222222222222222,
              "#7201a8"
             ],
             [
              0.3333333333333333,
              "#9c179e"
             ],
             [
              0.4444444444444444,
              "#bd3786"
             ],
             [
              0.5555555555555556,
              "#d8576b"
             ],
             [
              0.6666666666666666,
              "#ed7953"
             ],
             [
              0.7777777777777778,
              "#fb9f3a"
             ],
             [
              0.8888888888888888,
              "#fdca26"
             ],
             [
              1,
              "#f0f921"
             ]
            ],
            "type": "heatmap"
           }
          ],
          "histogram": [
           {
            "marker": {
             "pattern": {
              "fillmode": "overlay",
              "size": 10,
              "solidity": 0.2
             }
            },
            "type": "histogram"
           }
          ],
          "histogram2d": [
           {
            "colorbar": {
             "outlinewidth": 0,
             "ticks": ""
            },
            "colorscale": [
             [
              0,
              "#0d0887"
             ],
             [
              0.1111111111111111,
              "#46039f"
             ],
             [
              0.2222222222222222,
              "#7201a8"
             ],
             [
              0.3333333333333333,
              "#9c179e"
             ],
             [
              0.4444444444444444,
              "#bd3786"
             ],
             [
              0.5555555555555556,
              "#d8576b"
             ],
             [
              0.6666666666666666,
              "#ed7953"
             ],
             [
              0.7777777777777778,
              "#fb9f3a"
             ],
             [
              0.8888888888888888,
              "#fdca26"
             ],
             [
              1,
              "#f0f921"
             ]
            ],
            "type": "histogram2d"
           }
          ],
          "histogram2dcontour": [
           {
            "colorbar": {
             "outlinewidth": 0,
             "ticks": ""
            },
            "colorscale": [
             [
              0,
              "#0d0887"
             ],
             [
              0.1111111111111111,
              "#46039f"
             ],
             [
              0.2222222222222222,
              "#7201a8"
             ],
             [
              0.3333333333333333,
              "#9c179e"
             ],
             [
              0.4444444444444444,
              "#bd3786"
             ],
             [
              0.5555555555555556,
              "#d8576b"
             ],
             [
              0.6666666666666666,
              "#ed7953"
             ],
             [
              0.7777777777777778,
              "#fb9f3a"
             ],
             [
              0.8888888888888888,
              "#fdca26"
             ],
             [
              1,
              "#f0f921"
             ]
            ],
            "type": "histogram2dcontour"
           }
          ],
          "mesh3d": [
           {
            "colorbar": {
             "outlinewidth": 0,
             "ticks": ""
            },
            "type": "mesh3d"
           }
          ],
          "parcoords": [
           {
            "line": {
             "colorbar": {
              "outlinewidth": 0,
              "ticks": ""
             }
            },
            "type": "parcoords"
           }
          ],
          "pie": [
           {
            "automargin": true,
            "type": "pie"
           }
          ],
          "scatter": [
           {
            "marker": {
             "line": {
              "color": "#283442"
             }
            },
            "type": "scatter"
           }
          ],
          "scatter3d": [
           {
            "line": {
             "colorbar": {
              "outlinewidth": 0,
              "ticks": ""
             }
            },
            "marker": {
             "colorbar": {
              "outlinewidth": 0,
              "ticks": ""
             }
            },
            "type": "scatter3d"
           }
          ],
          "scattercarpet": [
           {
            "marker": {
             "colorbar": {
              "outlinewidth": 0,
              "ticks": ""
             }
            },
            "type": "scattercarpet"
           }
          ],
          "scattergeo": [
           {
            "marker": {
             "colorbar": {
              "outlinewidth": 0,
              "ticks": ""
             }
            },
            "type": "scattergeo"
           }
          ],
          "scattergl": [
           {
            "marker": {
             "line": {
              "color": "#283442"
             }
            },
            "type": "scattergl"
           }
          ],
          "scattermap": [
           {
            "marker": {
             "colorbar": {
              "outlinewidth": 0,
              "ticks": ""
             }
            },
            "type": "scattermap"
           }
          ],
          "scattermapbox": [
           {
            "marker": {
             "colorbar": {
              "outlinewidth": 0,
              "ticks": ""
             }
            },
            "type": "scattermapbox"
           }
          ],
          "scatterpolar": [
           {
            "marker": {
             "colorbar": {
              "outlinewidth": 0,
              "ticks": ""
             }
            },
            "type": "scatterpolar"
           }
          ],
          "scatterpolargl": [
           {
            "marker": {
             "colorbar": {
              "outlinewidth": 0,
              "ticks": ""
             }
            },
            "type": "scatterpolargl"
           }
          ],
          "scatterternary": [
           {
            "marker": {
             "colorbar": {
              "outlinewidth": 0,
              "ticks": ""
             }
            },
            "type": "scatterternary"
           }
          ],
          "surface": [
           {
            "colorbar": {
             "outlinewidth": 0,
             "ticks": ""
            },
            "colorscale": [
             [
              0,
              "#0d0887"
             ],
             [
              0.1111111111111111,
              "#46039f"
             ],
             [
              0.2222222222222222,
              "#7201a8"
             ],
             [
              0.3333333333333333,
              "#9c179e"
             ],
             [
              0.4444444444444444,
              "#bd3786"
             ],
             [
              0.5555555555555556,
              "#d8576b"
             ],
             [
              0.6666666666666666,
              "#ed7953"
             ],
             [
              0.7777777777777778,
              "#fb9f3a"
             ],
             [
              0.8888888888888888,
              "#fdca26"
             ],
             [
              1,
              "#f0f921"
             ]
            ],
            "type": "surface"
           }
          ],
          "table": [
           {
            "cells": {
             "fill": {
              "color": "#506784"
             },
             "line": {
              "color": "rgb(17,17,17)"
             }
            },
            "header": {
             "fill": {
              "color": "#2a3f5f"
             },
             "line": {
              "color": "rgb(17,17,17)"
             }
            },
            "type": "table"
           }
          ]
         },
         "layout": {
          "annotationdefaults": {
           "arrowcolor": "#f2f5fa",
           "arrowhead": 0,
           "arrowwidth": 1
          },
          "autotypenumbers": "strict",
          "coloraxis": {
           "colorbar": {
            "outlinewidth": 0,
            "ticks": ""
           }
          },
          "colorscale": {
           "diverging": [
            [
             0,
             "#8e0152"
            ],
            [
             0.1,
             "#c51b7d"
            ],
            [
             0.2,
             "#de77ae"
            ],
            [
             0.3,
             "#f1b6da"
            ],
            [
             0.4,
             "#fde0ef"
            ],
            [
             0.5,
             "#f7f7f7"
            ],
            [
             0.6,
             "#e6f5d0"
            ],
            [
             0.7,
             "#b8e186"
            ],
            [
             0.8,
             "#7fbc41"
            ],
            [
             0.9,
             "#4d9221"
            ],
            [
             1,
             "#276419"
            ]
           ],
           "sequential": [
            [
             0,
             "#0d0887"
            ],
            [
             0.1111111111111111,
             "#46039f"
            ],
            [
             0.2222222222222222,
             "#7201a8"
            ],
            [
             0.3333333333333333,
             "#9c179e"
            ],
            [
             0.4444444444444444,
             "#bd3786"
            ],
            [
             0.5555555555555556,
             "#d8576b"
            ],
            [
             0.6666666666666666,
             "#ed7953"
            ],
            [
             0.7777777777777778,
             "#fb9f3a"
            ],
            [
             0.8888888888888888,
             "#fdca26"
            ],
            [
             1,
             "#f0f921"
            ]
           ],
           "sequentialminus": [
            [
             0,
             "#0d0887"
            ],
            [
             0.1111111111111111,
             "#46039f"
            ],
            [
             0.2222222222222222,
             "#7201a8"
            ],
            [
             0.3333333333333333,
             "#9c179e"
            ],
            [
             0.4444444444444444,
             "#bd3786"
            ],
            [
             0.5555555555555556,
             "#d8576b"
            ],
            [
             0.6666666666666666,
             "#ed7953"
            ],
            [
             0.7777777777777778,
             "#fb9f3a"
            ],
            [
             0.8888888888888888,
             "#fdca26"
            ],
            [
             1,
             "#f0f921"
            ]
           ]
          },
          "colorway": [
           "#636efa",
           "#EF553B",
           "#00cc96",
           "#ab63fa",
           "#FFA15A",
           "#19d3f3",
           "#FF6692",
           "#B6E880",
           "#FF97FF",
           "#FECB52"
          ],
          "font": {
           "color": "#f2f5fa"
          },
          "geo": {
           "bgcolor": "rgb(17,17,17)",
           "lakecolor": "rgb(17,17,17)",
           "landcolor": "rgb(17,17,17)",
           "showlakes": true,
           "showland": true,
           "subunitcolor": "#506784"
          },
          "hoverlabel": {
           "align": "left"
          },
          "hovermode": "closest",
          "mapbox": {
           "style": "dark"
          },
          "paper_bgcolor": "rgb(17,17,17)",
          "plot_bgcolor": "rgb(17,17,17)",
          "polar": {
           "angularaxis": {
            "gridcolor": "#506784",
            "linecolor": "#506784",
            "ticks": ""
           },
           "bgcolor": "rgb(17,17,17)",
           "radialaxis": {
            "gridcolor": "#506784",
            "linecolor": "#506784",
            "ticks": ""
           }
          },
          "scene": {
           "xaxis": {
            "backgroundcolor": "rgb(17,17,17)",
            "gridcolor": "#506784",
            "gridwidth": 2,
            "linecolor": "#506784",
            "showbackground": true,
            "ticks": "",
            "zerolinecolor": "#C8D4E3"
           },
           "yaxis": {
            "backgroundcolor": "rgb(17,17,17)",
            "gridcolor": "#506784",
            "gridwidth": 2,
            "linecolor": "#506784",
            "showbackground": true,
            "ticks": "",
            "zerolinecolor": "#C8D4E3"
           },
           "zaxis": {
            "backgroundcolor": "rgb(17,17,17)",
            "gridcolor": "#506784",
            "gridwidth": 2,
            "linecolor": "#506784",
            "showbackground": true,
            "ticks": "",
            "zerolinecolor": "#C8D4E3"
           }
          },
          "shapedefaults": {
           "line": {
            "color": "#f2f5fa"
           }
          },
          "sliderdefaults": {
           "bgcolor": "#C8D4E3",
           "bordercolor": "rgb(17,17,17)",
           "borderwidth": 1,
           "tickwidth": 0
          },
          "ternary": {
           "aaxis": {
            "gridcolor": "#506784",
            "linecolor": "#506784",
            "ticks": ""
           },
           "baxis": {
            "gridcolor": "#506784",
            "linecolor": "#506784",
            "ticks": ""
           },
           "bgcolor": "rgb(17,17,17)",
           "caxis": {
            "gridcolor": "#506784",
            "linecolor": "#506784",
            "ticks": ""
           }
          },
          "title": {
           "x": 0.05
          },
          "updatemenudefaults": {
           "bgcolor": "#506784",
           "borderwidth": 0
          },
          "xaxis": {
           "automargin": true,
           "gridcolor": "#283442",
           "linecolor": "#506784",
           "ticks": "",
           "title": {
            "standoff": 15
           },
           "zerolinecolor": "#283442",
           "zerolinewidth": 2
          },
          "yaxis": {
           "automargin": true,
           "gridcolor": "#283442",
           "linecolor": "#506784",
           "ticks": "",
           "title": {
            "standoff": 15
           },
           "zerolinecolor": "#283442",
           "zerolinewidth": 2
          }
         }
        },
        "title": {
         "text": "Team 1 Win Probability (Gold & XP Pythagorean Blend)"
        },
        "xaxis": {
         "gridcolor": "rgba(255,255,255,0.08)",
         "showgrid": true,
         "title": {
          "text": "Time (min)"
         }
        },
        "yaxis": {
         "gridcolor": "rgba(255,255,255,0.08)",
         "range": [
          0.45,
          0.6
         ],
         "showgrid": true,
         "tickformat": ".0%",
         "title": {
          "text": "P(win)"
         }
        }
       }
      }
     },
     "metadata": {},
     "output_type": "display_data"
    },
    {
     "data": {
      "application/vnd.plotly.v1+json": {
       "config": {
        "plotlyServerURL": "https://plot.ly"
       },
       "data": [
        {
         "line": {
          "color": "#F2B705",
          "shape": "spline",
          "width": 3
         },
         "mode": "lines",
         "name": "Gold Advantage (T1 - T2)",
         "type": "scatter",
         "x": {
          "bdata": "AAAAAAAAAAC+nOx5EQDwPwjRRwamAABAQacNdNoACEC84OZn/QAQQD/rB2LGARRA8/qmwx0CGEDWMcGDeQIcQJX5NBRkASBAlfk0FGQBIkCVirMPnwEkQC0e8T6hASZAzWB5fdMBKEC6JOFV6QEqQLok4VXpASxAlKywBhUCLkDd2q8oEgEwQKSVaLYYATFA9Las1TEBMkCyU5lPQwEzQAJ13W5cATRAseQXS34BNUCVirMPnwE2QPjnj1aiATdAfT81XroBOEBJCdR1uwE5QDbNO07RATpAi/1l9+QBO0BXxwQP5gE8QAr8zhx/5zxA",
          "dtype": "f8"
         },
         "y": {
          "bdata": "AAAAAGIAof8ZAQoCZwaYA7kDzwMCBGQENQnVB7wH0BTMGXcaCBp2F8Qe3B35IXUdCxxlHz0gmiNKINYn",
          "dtype": "i2"
         }
        },
        {
         "line": {
          "color": "#1E90FF",
          "shape": "spline",
          "width": 3
         },
         "mode": "lines",
         "name": "XP Advantage (T1 - T2)",
         "type": "scatter",
         "x": {
          "bdata": "AAAAAAAAAAC+nOx5EQDwPwjRRwamAABAQacNdNoACEC84OZn/QAQQD/rB2LGARRA8/qmwx0CGEDWMcGDeQIcQJX5NBRkASBAlfk0FGQBIkCVirMPnwEkQC0e8T6hASZAzWB5fdMBKEC6JOFV6QEqQLok4VXpASxAlKywBhUCLkDd2q8oEgEwQKSVaLYYATFA9Las1TEBMkCyU5lPQwEzQAJ13W5cATRAseQXS34BNUCVirMPnwE2QPjnj1aiATdAfT81XroBOEBJCdR1uwE5QDbNO07RATpAi/1l9+QBO0BXxwQP5gE8QAr8zhx/5zxA",
          "dtype": "f8"
         },
         "y": {
          "bdata": "AAAAACoB8f9JABwCFwJz/iH+bv9k/1QAewXzApkCeRMBEl8PCRCiEPoYpRmSHoMdCxheIO4lCi9kKogw",
          "dtype": "i2"
         }
        }
       ],
       "layout": {
        "hovermode": "x unified",
        "margin": {
         "b": 50,
         "l": 60,
         "r": 30,
         "t": 60
        },
        "paper_bgcolor": "#1f1f1f",
        "plot_bgcolor": "#1f1f1f",
        "shapes": [
         {
          "line": {
           "color": "rgba(255,255,255,0.6)",
           "dash": "dash",
           "width": 1
          },
          "type": "line",
          "x0": 0,
          "x1": 1,
          "xref": "x domain",
          "y0": 0,
          "y1": 0,
          "yref": "y"
         }
        ],
        "template": {
         "data": {
          "bar": [
           {
            "error_x": {
             "color": "#f2f5fa"
            },
            "error_y": {
             "color": "#f2f5fa"
            },
            "marker": {
             "line": {
              "color": "rgb(17,17,17)",
              "width": 0.5
             },
             "pattern": {
              "fillmode": "overlay",
              "size": 10,
              "solidity": 0.2
             }
            },
            "type": "bar"
           }
          ],
          "barpolar": [
           {
            "marker": {
             "line": {
              "color": "rgb(17,17,17)",
              "width": 0.5
             },
             "pattern": {
              "fillmode": "overlay",
              "size": 10,
              "solidity": 0.2
             }
            },
            "type": "barpolar"
           }
          ],
          "carpet": [
           {
            "aaxis": {
             "endlinecolor": "#A2B1C6",
             "gridcolor": "#506784",
             "linecolor": "#506784",
             "minorgridcolor": "#506784",
             "startlinecolor": "#A2B1C6"
            },
            "baxis": {
             "endlinecolor": "#A2B1C6",
             "gridcolor": "#506784",
             "linecolor": "#506784",
             "minorgridcolor": "#506784",
             "startlinecolor": "#A2B1C6"
            },
            "type": "carpet"
           }
          ],
          "choropleth": [
           {
            "colorbar": {
             "outlinewidth": 0,
             "ticks": ""
            },
            "type": "choropleth"
           }
          ],
          "contour": [
           {
            "colorbar": {
             "outlinewidth": 0,
             "ticks": ""
            },
            "colorscale": [
             [
              0,
              "#0d0887"
             ],
             [
              0.1111111111111111,
              "#46039f"
             ],
             [
              0.2222222222222222,
              "#7201a8"
             ],
             [
              0.3333333333333333,
              "#9c179e"
             ],
             [
              0.4444444444444444,
              "#bd3786"
             ],
             [
              0.5555555555555556,
              "#d8576b"
             ],
             [
              0.6666666666666666,
              "#ed7953"
             ],
             [
              0.7777777777777778,
              "#fb9f3a"
             ],
             [
              0.8888888888888888,
              "#fdca26"
             ],
             [
              1,
              "#f0f921"
             ]
            ],
            "type": "contour"
           }
          ],
          "contourcarpet": [
           {
            "colorbar": {
             "outlinewidth": 0,
             "ticks": ""
            },
            "type": "contourcarpet"
           }
          ],
          "heatmap": [
           {
            "colorbar": {
             "outlinewidth": 0,
             "ticks": ""
            },
            "colorscale": [
             [
              0,
              "#0d0887"
             ],
             [
              0.1111111111111111,
              "#46039f"
             ],
             [
              0.2222222222222222,
              "#7201a8"
             ],
             [
              0.3333333333333333,
              "#9c179e"
             ],
             [
              0.4444444444444444,
              "#bd3786"
             ],
             [
              0.5555555555555556,
              "#d8576b"
             ],
             [
              0.6666666666666666,
              "#ed7953"
             ],
             [
              0.7777777777777778,
              "#fb9f3a"
             ],
             [
              0.8888888888888888,
              "#fdca26"
             ],
             [
              1,
              "#f0f921"
             ]
            ],
            "type": "heatmap"
           }
          ],
          "histogram": [
           {
            "marker": {
             "pattern": {
              "fillmode": "overlay",
              "size": 10,
              "solidity": 0.2
             }
            },
            "type": "histogram"
           }
          ],
          "histogram2d": [
           {
            "colorbar": {
             "outlinewidth": 0,
             "ticks": ""
            },
            "colorscale": [
             [
              0,
              "#0d0887"
             ],
             [
              0.1111111111111111,
              "#46039f"
             ],
             [
              0.2222222222222222,
              "#7201a8"
             ],
             [
              0.3333333333333333,
              "#9c179e"
             ],
             [
              0.4444444444444444,
              "#bd3786"
             ],
             [
              0.5555555555555556,
              "#d8576b"
             ],
             [
              0.6666666666666666,
              "#ed7953"
             ],
             [
              0.7777777777777778,
              "#fb9f3a"
             ],
             [
              0.8888888888888888,
              "#fdca26"
             ],
             [
              1,
              "#f0f921"
             ]
            ],
            "type": "histogram2d"
           }
          ],
          "histogram2dcontour": [
           {
            "colorbar": {
             "outlinewidth": 0,
             "ticks": ""
            },
            "colorscale": [
             [
              0,
              "#0d0887"
             ],
             [
              0.1111111111111111,
              "#46039f"
             ],
             [
              0.2222222222222222,
              "#7201a8"
             ],
             [
              0.3333333333333333,
              "#9c179e"
             ],
             [
              0.4444444444444444,
              "#bd3786"
             ],
             [
              0.5555555555555556,
              "#d8576b"
             ],
             [
              0.6666666666666666,
              "#ed7953"
             ],
             [
              0.7777777777777778,
              "#fb9f3a"
             ],
             [
              0.8888888888888888,
              "#fdca26"
             ],
             [
              1,
              "#f0f921"
             ]
            ],
            "type": "histogram2dcontour"
           }
          ],
          "mesh3d": [
           {
            "colorbar": {
             "outlinewidth": 0,
             "ticks": ""
            },
            "type": "mesh3d"
           }
          ],
          "parcoords": [
           {
            "line": {
             "colorbar": {
              "outlinewidth": 0,
              "ticks": ""
             }
            },
            "type": "parcoords"
           }
          ],
          "pie": [
           {
            "automargin": true,
            "type": "pie"
           }
          ],
          "scatter": [
           {
            "marker": {
             "line": {
              "color": "#283442"
             }
            },
            "type": "scatter"
           }
          ],
          "scatter3d": [
           {
            "line": {
             "colorbar": {
              "outlinewidth": 0,
              "ticks": ""
             }
            },
            "marker": {
             "colorbar": {
              "outlinewidth": 0,
              "ticks": ""
             }
            },
            "type": "scatter3d"
           }
          ],
          "scattercarpet": [
           {
            "marker": {
             "colorbar": {
              "outlinewidth": 0,
              "ticks": ""
             }
            },
            "type": "scattercarpet"
           }
          ],
          "scattergeo": [
           {
            "marker": {
             "colorbar": {
              "outlinewidth": 0,
              "ticks": ""
             }
            },
            "type": "scattergeo"
           }
          ],
          "scattergl": [
           {
            "marker": {
             "line": {
              "color": "#283442"
             }
            },
            "type": "scattergl"
           }
          ],
          "scattermap": [
           {
            "marker": {
             "colorbar": {
              "outlinewidth": 0,
              "ticks": ""
             }
            },
            "type": "scattermap"
           }
          ],
          "scattermapbox": [
           {
            "marker": {
             "colorbar": {
              "outlinewidth": 0,
              "ticks": ""
             }
            },
            "type": "scattermapbox"
           }
          ],
          "scatterpolar": [
           {
            "marker": {
             "colorbar": {
              "outlinewidth": 0,
              "ticks": ""
             }
            },
            "type": "scatterpolar"
           }
          ],
          "scatterpolargl": [
           {
            "marker": {
             "colorbar": {
              "outlinewidth": 0,
              "ticks": ""
             }
            },
            "type": "scatterpolargl"
           }
          ],
          "scatterternary": [
           {
            "marker": {
             "colorbar": {
              "outlinewidth": 0,
              "ticks": ""
             }
            },
            "type": "scatterternary"
           }
          ],
          "surface": [
           {
            "colorbar": {
             "outlinewidth": 0,
             "ticks": ""
            },
            "colorscale": [
             [
              0,
              "#0d0887"
             ],
             [
              0.1111111111111111,
              "#46039f"
             ],
             [
              0.2222222222222222,
              "#7201a8"
             ],
             [
              0.3333333333333333,
              "#9c179e"
             ],
             [
              0.4444444444444444,
              "#bd3786"
             ],
             [
              0.5555555555555556,
              "#d8576b"
             ],
             [
              0.6666666666666666,
              "#ed7953"
             ],
             [
              0.7777777777777778,
              "#fb9f3a"
             ],
             [
              0.8888888888888888,
              "#fdca26"
             ],
             [
              1,
              "#f0f921"
             ]
            ],
            "type": "surface"
           }
          ],
          "table": [
           {
            "cells": {
             "fill": {
              "color": "#506784"
             },
             "line": {
              "color": "rgb(17,17,17)"
             }
            },
            "header": {
             "fill": {
              "color": "#2a3f5f"
             },
             "line": {
              "color": "rgb(17,17,17)"
             }
            },
            "type": "table"
           }
          ]
         },
         "layout": {
          "annotationdefaults": {
           "arrowcolor": "#f2f5fa",
           "arrowhead": 0,
           "arrowwidth": 1
          },
          "autotypenumbers": "strict",
          "coloraxis": {
           "colorbar": {
            "outlinewidth": 0,
            "ticks": ""
           }
          },
          "colorscale": {
           "diverging": [
            [
             0,
             "#8e0152"
            ],
            [
             0.1,
             "#c51b7d"
            ],
            [
             0.2,
             "#de77ae"
            ],
            [
             0.3,
             "#f1b6da"
            ],
            [
             0.4,
             "#fde0ef"
            ],
            [
             0.5,
             "#f7f7f7"
            ],
            [
             0.6,
             "#e6f5d0"
            ],
            [
             0.7,
             "#b8e186"
            ],
            [
             0.8,
             "#7fbc41"
            ],
            [
             0.9,
             "#4d9221"
            ],
            [
             1,
             "#276419"
            ]
           ],
           "sequential": [
            [
             0,
             "#0d0887"
            ],
            [
             0.1111111111111111,
             "#46039f"
            ],
            [
             0.2222222222222222,
             "#7201a8"
            ],
            [
             0.3333333333333333,
             "#9c179e"
            ],
            [
             0.4444444444444444,
             "#bd3786"
            ],
            [
             0.5555555555555556,
             "#d8576b"
            ],
            [
             0.6666666666666666,
             "#ed7953"
            ],
            [
             0.7777777777777778,
             "#fb9f3a"
            ],
            [
             0.8888888888888888,
             "#fdca26"
            ],
            [
             1,
             "#f0f921"
            ]
           ],
           "sequentialminus": [
            [
             0,
             "#0d0887"
            ],
            [
             0.1111111111111111,
             "#46039f"
            ],
            [
             0.2222222222222222,
             "#7201a8"
            ],
            [
             0.3333333333333333,
             "#9c179e"
            ],
            [
             0.4444444444444444,
             "#bd3786"
            ],
            [
             0.5555555555555556,
             "#d8576b"
            ],
            [
             0.6666666666666666,
             "#ed7953"
            ],
            [
             0.7777777777777778,
             "#fb9f3a"
            ],
            [
             0.8888888888888888,
             "#fdca26"
            ],
            [
             1,
             "#f0f921"
            ]
           ]
          },
          "colorway": [
           "#636efa",
           "#EF553B",
           "#00cc96",
           "#ab63fa",
           "#FFA15A",
           "#19d3f3",
           "#FF6692",
           "#B6E880",
           "#FF97FF",
           "#FECB52"
          ],
          "font": {
           "color": "#f2f5fa"
          },
          "geo": {
           "bgcolor": "rgb(17,17,17)",
           "lakecolor": "rgb(17,17,17)",
           "landcolor": "rgb(17,17,17)",
           "showlakes": true,
           "showland": true,
           "subunitcolor": "#506784"
          },
          "hoverlabel": {
           "align": "left"
          },
          "hovermode": "closest",
          "mapbox": {
           "style": "dark"
          },
          "paper_bgcolor": "rgb(17,17,17)",
          "plot_bgcolor": "rgb(17,17,17)",
          "polar": {
           "angularaxis": {
            "gridcolor": "#506784",
            "linecolor": "#506784",
            "ticks": ""
           },
           "bgcolor": "rgb(17,17,17)",
           "radialaxis": {
            "gridcolor": "#506784",
            "linecolor": "#506784",
            "ticks": ""
           }
          },
          "scene": {
           "xaxis": {
            "backgroundcolor": "rgb(17,17,17)",
            "gridcolor": "#506784",
            "gridwidth": 2,
            "linecolor": "#506784",
            "showbackground": true,
            "ticks": "",
            "zerolinecolor": "#C8D4E3"
           },
           "yaxis": {
            "backgroundcolor": "rgb(17,17,17)",
            "gridcolor": "#506784",
            "gridwidth": 2,
            "linecolor": "#506784",
            "showbackground": true,
            "ticks": "",
            "zerolinecolor": "#C8D4E3"
           },
           "zaxis": {
            "backgroundcolor": "rgb(17,17,17)",
            "gridcolor": "#506784",
            "gridwidth": 2,
            "linecolor": "#506784",
            "showbackground": true,
            "ticks": "",
            "zerolinecolor": "#C8D4E3"
           }
          },
          "shapedefaults": {
           "line": {
            "color": "#f2f5fa"
           }
          },
          "sliderdefaults": {
           "bgcolor": "#C8D4E3",
           "bordercolor": "rgb(17,17,17)",
           "borderwidth": 1,
           "tickwidth": 0
          },
          "ternary": {
           "aaxis": {
            "gridcolor": "#506784",
            "linecolor": "#506784",
            "ticks": ""
           },
           "baxis": {
            "gridcolor": "#506784",
            "linecolor": "#506784",
            "ticks": ""
           },
           "bgcolor": "rgb(17,17,17)",
           "caxis": {
            "gridcolor": "#506784",
            "linecolor": "#506784",
            "ticks": ""
           }
          },
          "title": {
           "x": 0.05
          },
          "updatemenudefaults": {
           "bgcolor": "#506784",
           "borderwidth": 0
          },
          "xaxis": {
           "automargin": true,
           "gridcolor": "#283442",
           "linecolor": "#506784",
           "ticks": "",
           "title": {
            "standoff": 15
           },
           "zerolinecolor": "#283442",
           "zerolinewidth": 2
          },
          "yaxis": {
           "automargin": true,
           "gridcolor": "#283442",
           "linecolor": "#506784",
           "ticks": "",
           "title": {
            "standoff": 15
           },
           "zerolinecolor": "#283442",
           "zerolinewidth": 2
          }
         }
        },
        "title": {
         "text": "Team 1 Advantages Over Time"
        },
        "xaxis": {
         "gridcolor": "rgba(255,255,255,0.08)",
         "showgrid": true,
         "title": {
          "text": "Time (min)"
         }
        },
        "yaxis": {
         "gridcolor": "rgba(255,255,255,0.08)",
         "showgrid": true,
         "title": {
          "text": "Advantage"
         }
        }
       }
      }
     },
     "metadata": {},
     "output_type": "display_data"
    }
   ],
   "source": [
    "# Win Probability\n",
    "fig_wp = go.Figure()\n",
    "fig_wp.add_trace(go.Scatter(\n",
    "    x=df[\"time_min\"], y=df[\"p_win_final\"],\n",
    "    mode=\"lines\",\n",
    "    line=dict(width=4, color=\"#F2B705\"),\n",
    "    line_shape=\"spline\",\n",
    "    name=\"P(win) – Team 1 (Gold+XP)\"\n",
    "))\n",
    "fig_wp.add_hline(y=0.5, line_width=1, line_dash=\"dash\", line_color=\"rgba(255,255,255,0.6)\")\n",
    "\n",
    "fig_wp.update_layout(\n",
    "    title=\"Team 1 Win Probability (Gold & XP Pythagorean Blend)\",\n",
    "    template=\"plotly_dark\",\n",
    "    paper_bgcolor=\"#1f1f1f\", plot_bgcolor=\"#1f1f1f\",\n",
    "    xaxis_title=\"Time (min)\", yaxis_title=\"P(win)\",\n",
    "    yaxis=dict(range=[0.45, 0.60], tickformat=\".0%\"),\n",
    "    hovermode=\"x unified\",\n",
    "    margin=dict(l=60, r=30, t=60, b=50)\n",
    ")\n",
    "fig_wp.update_xaxes(showgrid=True, gridcolor=\"rgba(255,255,255,0.08)\")\n",
    "fig_wp.update_yaxes(showgrid=True, gridcolor=\"rgba(255,255,255,0.08)\")\n",
    "\n",
    "# Gold & XP Advantage\n",
    "fig_adv = go.Figure()\n",
    "fig_adv.add_trace(go.Scatter(\n",
    "    x=df[\"time_min\"], y=df[\"gold_adv\"],\n",
    "    mode=\"lines\", line=dict(width=3, color=\"#F2B705\"),\n",
    "    line_shape=\"spline\", name=\"Gold Advantage (T1 - T2)\"\n",
    "))\n",
    "fig_adv.add_trace(go.Scatter(\n",
    "    x=df[\"time_min\"], y=df[\"xp_adv\"],\n",
    "    mode=\"lines\", line=dict(width=3, color=\"#1E90FF\"),\n",
    "    line_shape=\"spline\", name=\"XP Advantage (T1 - T2)\"\n",
    "))\n",
    "fig_adv.add_hline(y=0, line_width=1, line_dash=\"dash\", line_color=\"rgba(255,255,255,0.6)\")\n",
    "\n",
    "fig_adv.update_layout(\n",
    "    title=\"Team 1 Advantages Over Time\",\n",
    "    template=\"plotly_dark\",\n",
    "    paper_bgcolor=\"#1f1f1f\", plot_bgcolor=\"#1f1f1f\",\n",
    "    xaxis_title=\"Time (min)\", yaxis_title=\"Advantage\",\n",
    "    hovermode=\"x unified\",\n",
    "    margin=dict(l=60, r=30, t=60, b=50)\n",
    ")\n",
    "fig_adv.update_xaxes(showgrid=True, gridcolor=\"rgba(255,255,255,0.08)\")\n",
    "fig_adv.update_yaxes(showgrid=True, gridcolor=\"rgba(255,255,255,0.08)\")\n",
    "\n",
    "# ---------- Show ----------\n",
    "fig_wp.show()\n",
    "fig_adv.show()"
   ]
  },
  {
   "cell_type": "code",
   "execution_count": 59,
   "id": "407044df",
   "metadata": {},
   "outputs": [],
   "source": [
    "# Save as HTML\n",
    "fig_wp.write_html(\"figs/winprob_dark.html\", include_plotlyjs=\"cdn\")\n",
    "fig_adv.write_html(\"figs/advantages_dark.html\", include_plotlyjs=\"cdn\")"
   ]
  },
  {
   "cell_type": "code",
   "execution_count": 61,
   "id": "ad493041",
   "metadata": {},
   "outputs": [],
   "source": [
    "events = [event for frame in frames for event in frame['events']]\n",
    "\n",
    "event_df = pd.DataFrame(events)"
   ]
  },
  {
   "cell_type": "code",
   "execution_count": 62,
   "id": "16f3fbdf",
   "metadata": {},
   "outputs": [
    {
     "data": {
      "application/vnd.microsoft.datawrangler.viewer.v0+json": {
       "columns": [
        {
         "name": "index",
         "rawType": "int64",
         "type": "integer"
        },
        {
         "name": "realTimestamp",
         "rawType": "float64",
         "type": "float"
        },
        {
         "name": "timestamp",
         "rawType": "int64",
         "type": "integer"
        },
        {
         "name": "type",
         "rawType": "object",
         "type": "string"
        },
        {
         "name": "itemId",
         "rawType": "float64",
         "type": "float"
        },
        {
         "name": "participantId",
         "rawType": "float64",
         "type": "float"
        },
        {
         "name": "afterId",
         "rawType": "float64",
         "type": "float"
        },
        {
         "name": "beforeId",
         "rawType": "float64",
         "type": "float"
        },
        {
         "name": "goldGain",
         "rawType": "float64",
         "type": "float"
        },
        {
         "name": "levelUpType",
         "rawType": "object",
         "type": "unknown"
        },
        {
         "name": "skillSlot",
         "rawType": "float64",
         "type": "float"
        },
        {
         "name": "level",
         "rawType": "float64",
         "type": "float"
        },
        {
         "name": "creatorId",
         "rawType": "float64",
         "type": "float"
        },
        {
         "name": "wardType",
         "rawType": "object",
         "type": "unknown"
        },
        {
         "name": "bounty",
         "rawType": "float64",
         "type": "float"
        },
        {
         "name": "killStreakLength",
         "rawType": "float64",
         "type": "float"
        },
        {
         "name": "killerId",
         "rawType": "float64",
         "type": "float"
        },
        {
         "name": "position",
         "rawType": "object",
         "type": "unknown"
        },
        {
         "name": "shutdownBounty",
         "rawType": "float64",
         "type": "float"
        },
        {
         "name": "victimDamageDealt",
         "rawType": "object",
         "type": "unknown"
        },
        {
         "name": "victimDamageReceived",
         "rawType": "object",
         "type": "unknown"
        },
        {
         "name": "victimId",
         "rawType": "float64",
         "type": "float"
        },
        {
         "name": "killType",
         "rawType": "object",
         "type": "unknown"
        },
        {
         "name": "assistingParticipantIds",
         "rawType": "object",
         "type": "unknown"
        },
        {
         "name": "multiKillLength",
         "rawType": "float64",
         "type": "float"
        },
        {
         "name": "laneType",
         "rawType": "object",
         "type": "unknown"
        },
        {
         "name": "teamId",
         "rawType": "float64",
         "type": "float"
        },
        {
         "name": "killerTeamId",
         "rawType": "float64",
         "type": "float"
        },
        {
         "name": "monsterSubType",
         "rawType": "object",
         "type": "unknown"
        },
        {
         "name": "monsterType",
         "rawType": "object",
         "type": "unknown"
        },
        {
         "name": "buildingType",
         "rawType": "object",
         "type": "unknown"
        },
        {
         "name": "towerType",
         "rawType": "object",
         "type": "unknown"
        },
        {
         "name": "actualStartTime",
         "rawType": "float64",
         "type": "float"
        },
        {
         "name": "gameId",
         "rawType": "float64",
         "type": "float"
        },
        {
         "name": "winningTeam",
         "rawType": "float64",
         "type": "float"
        }
       ],
       "ref": "73da4a71-3558-42ed-935a-4def37f52195",
       "rows": [
        [
         "0",
         "1712859136101.0",
         "0",
         "PAUSE_END",
         null,
         null,
         null,
         null,
         null,
         null,
         null,
         null,
         null,
         null,
         null,
         null,
         null,
         null,
         null,
         null,
         null,
         null,
         null,
         null,
         null,
         null,
         null,
         null,
         null,
         null,
         null,
         null,
         null,
         null,
         null
        ],
        [
         "1",
         null,
         "2036",
         "ITEM_PURCHASED",
         "3865.0",
         "10.0",
         null,
         null,
         null,
         null,
         null,
         null,
         null,
         null,
         null,
         null,
         null,
         null,
         null,
         null,
         null,
         null,
         null,
         null,
         null,
         null,
         null,
         null,
         null,
         null,
         null,
         null,
         null,
         null,
         null
        ],
        [
         "2",
         null,
         "2036",
         "ITEM_PURCHASED",
         "2003.0",
         "10.0",
         null,
         null,
         null,
         null,
         null,
         null,
         null,
         null,
         null,
         null,
         null,
         null,
         null,
         null,
         null,
         null,
         null,
         null,
         null,
         null,
         null,
         null,
         null,
         null,
         null,
         null,
         null,
         null,
         null
        ],
        [
         "3",
         null,
         "2036",
         "ITEM_PURCHASED",
         "2003.0",
         "10.0",
         null,
         null,
         null,
         null,
         null,
         null,
         null,
         null,
         null,
         null,
         null,
         null,
         null,
         null,
         null,
         null,
         null,
         null,
         null,
         null,
         null,
         null,
         null,
         null,
         null,
         null,
         null,
         null,
         null
        ],
        [
         "4",
         null,
         "2336",
         "ITEM_PURCHASED",
         "1102.0",
         "2.0",
         null,
         null,
         null,
         null,
         null,
         null,
         null,
         null,
         null,
         null,
         null,
         null,
         null,
         null,
         null,
         null,
         null,
         null,
         null,
         null,
         null,
         null,
         null,
         null,
         null,
         null,
         null,
         null,
         null
        ],
        [
         "5",
         null,
         "2437",
         "ITEM_PURCHASED",
         "1056.0",
         "4.0",
         null,
         null,
         null,
         null,
         null,
         null,
         null,
         null,
         null,
         null,
         null,
         null,
         null,
         null,
         null,
         null,
         null,
         null,
         null,
         null,
         null,
         null,
         null,
         null,
         null,
         null,
         null,
         null,
         null
        ],
        [
         "6",
         null,
         "2437",
         "ITEM_PURCHASED",
         "2003.0",
         "4.0",
         null,
         null,
         null,
         null,
         null,
         null,
         null,
         null,
         null,
         null,
         null,
         null,
         null,
         null,
         null,
         null,
         null,
         null,
         null,
         null,
         null,
         null,
         null,
         null,
         null,
         null,
         null,
         null,
         null
        ],
        [
         "7",
         null,
         "2437",
         "ITEM_PURCHASED",
         "2003.0",
         "4.0",
         null,
         null,
         null,
         null,
         null,
         null,
         null,
         null,
         null,
         null,
         null,
         null,
         null,
         null,
         null,
         null,
         null,
         null,
         null,
         null,
         null,
         null,
         null,
         null,
         null,
         null,
         null,
         null,
         null
        ],
        [
         "8",
         null,
         "2570",
         "ITEM_PURCHASED",
         "3340.0",
         "10.0",
         null,
         null,
         null,
         null,
         null,
         null,
         null,
         null,
         null,
         null,
         null,
         null,
         null,
         null,
         null,
         null,
         null,
         null,
         null,
         null,
         null,
         null,
         null,
         null,
         null,
         null,
         null,
         null,
         null
        ],
        [
         "9",
         null,
         "2670",
         "ITEM_PURCHASED",
         "3340.0",
         "2.0",
         null,
         null,
         null,
         null,
         null,
         null,
         null,
         null,
         null,
         null,
         null,
         null,
         null,
         null,
         null,
         null,
         null,
         null,
         null,
         null,
         null,
         null,
         null,
         null,
         null,
         null,
         null,
         null,
         null
        ],
        [
         "10",
         null,
         "2703",
         "ITEM_PURCHASED",
         "3340.0",
         "4.0",
         null,
         null,
         null,
         null,
         null,
         null,
         null,
         null,
         null,
         null,
         null,
         null,
         null,
         null,
         null,
         null,
         null,
         null,
         null,
         null,
         null,
         null,
         null,
         null,
         null,
         null,
         null,
         null,
         null
        ],
        [
         "11",
         null,
         "3003",
         "ITEM_PURCHASED",
         "2003.0",
         "2.0",
         null,
         null,
         null,
         null,
         null,
         null,
         null,
         null,
         null,
         null,
         null,
         null,
         null,
         null,
         null,
         null,
         null,
         null,
         null,
         null,
         null,
         null,
         null,
         null,
         null,
         null,
         null,
         null,
         null
        ],
        [
         "12",
         null,
         "4803",
         "ITEM_PURCHASED",
         "1055.0",
         "1.0",
         null,
         null,
         null,
         null,
         null,
         null,
         null,
         null,
         null,
         null,
         null,
         null,
         null,
         null,
         null,
         null,
         null,
         null,
         null,
         null,
         null,
         null,
         null,
         null,
         null,
         null,
         null,
         null,
         null
        ],
        [
         "13",
         null,
         "4803",
         "ITEM_PURCHASED",
         "2003.0",
         "1.0",
         null,
         null,
         null,
         null,
         null,
         null,
         null,
         null,
         null,
         null,
         null,
         null,
         null,
         null,
         null,
         null,
         null,
         null,
         null,
         null,
         null,
         null,
         null,
         null,
         null,
         null,
         null,
         null,
         null
        ],
        [
         "14",
         null,
         "5502",
         "ITEM_PURCHASED",
         "3340.0",
         "1.0",
         null,
         null,
         null,
         null,
         null,
         null,
         null,
         null,
         null,
         null,
         null,
         null,
         null,
         null,
         null,
         null,
         null,
         null,
         null,
         null,
         null,
         null,
         null,
         null,
         null,
         null,
         null,
         null,
         null
        ],
        [
         "15",
         null,
         "6571",
         "ITEM_PURCHASED",
         "3865.0",
         "5.0",
         null,
         null,
         null,
         null,
         null,
         null,
         null,
         null,
         null,
         null,
         null,
         null,
         null,
         null,
         null,
         null,
         null,
         null,
         null,
         null,
         null,
         null,
         null,
         null,
         null,
         null,
         null,
         null,
         null
        ],
        [
         "16",
         null,
         "6940",
         "ITEM_PURCHASED",
         "2003.0",
         "5.0",
         null,
         null,
         null,
         null,
         null,
         null,
         null,
         null,
         null,
         null,
         null,
         null,
         null,
         null,
         null,
         null,
         null,
         null,
         null,
         null,
         null,
         null,
         null,
         null,
         null,
         null,
         null,
         null,
         null
        ],
        [
         "17",
         null,
         "7107",
         "ITEM_PURCHASED",
         "2003.0",
         "5.0",
         null,
         null,
         null,
         null,
         null,
         null,
         null,
         null,
         null,
         null,
         null,
         null,
         null,
         null,
         null,
         null,
         null,
         null,
         null,
         null,
         null,
         null,
         null,
         null,
         null,
         null,
         null,
         null,
         null
        ],
        [
         "18",
         null,
         "7841",
         "ITEM_PURCHASED",
         "3340.0",
         "5.0",
         null,
         null,
         null,
         null,
         null,
         null,
         null,
         null,
         null,
         null,
         null,
         null,
         null,
         null,
         null,
         null,
         null,
         null,
         null,
         null,
         null,
         null,
         null,
         null,
         null,
         null,
         null,
         null,
         null
        ],
        [
         "19",
         null,
         "14221",
         "ITEM_PURCHASED",
         "1056.0",
         "3.0",
         null,
         null,
         null,
         null,
         null,
         null,
         null,
         null,
         null,
         null,
         null,
         null,
         null,
         null,
         null,
         null,
         null,
         null,
         null,
         null,
         null,
         null,
         null,
         null,
         null,
         null,
         null,
         null,
         null
        ],
        [
         "20",
         null,
         "14221",
         "ITEM_PURCHASED",
         "2003.0",
         "3.0",
         null,
         null,
         null,
         null,
         null,
         null,
         null,
         null,
         null,
         null,
         null,
         null,
         null,
         null,
         null,
         null,
         null,
         null,
         null,
         null,
         null,
         null,
         null,
         null,
         null,
         null,
         null,
         null,
         null
        ],
        [
         "21",
         null,
         "14221",
         "ITEM_PURCHASED",
         "2003.0",
         "3.0",
         null,
         null,
         null,
         null,
         null,
         null,
         null,
         null,
         null,
         null,
         null,
         null,
         null,
         null,
         null,
         null,
         null,
         null,
         null,
         null,
         null,
         null,
         null,
         null,
         null,
         null,
         null,
         null,
         null
        ],
        [
         "22",
         null,
         "14820",
         "ITEM_PURCHASED",
         "3340.0",
         "3.0",
         null,
         null,
         null,
         null,
         null,
         null,
         null,
         null,
         null,
         null,
         null,
         null,
         null,
         null,
         null,
         null,
         null,
         null,
         null,
         null,
         null,
         null,
         null,
         null,
         null,
         null,
         null,
         null,
         null
        ],
        [
         "23",
         null,
         "17257",
         "ITEM_PURCHASED",
         "1056.0",
         "9.0",
         null,
         null,
         null,
         null,
         null,
         null,
         null,
         null,
         null,
         null,
         null,
         null,
         null,
         null,
         null,
         null,
         null,
         null,
         null,
         null,
         null,
         null,
         null,
         null,
         null,
         null,
         null,
         null,
         null
        ],
        [
         "24",
         null,
         "17257",
         "ITEM_PURCHASED",
         "2003.0",
         "9.0",
         null,
         null,
         null,
         null,
         null,
         null,
         null,
         null,
         null,
         null,
         null,
         null,
         null,
         null,
         null,
         null,
         null,
         null,
         null,
         null,
         null,
         null,
         null,
         null,
         null,
         null,
         null,
         null,
         null
        ],
        [
         "25",
         null,
         "17257",
         "ITEM_PURCHASED",
         "2003.0",
         "9.0",
         null,
         null,
         null,
         null,
         null,
         null,
         null,
         null,
         null,
         null,
         null,
         null,
         null,
         null,
         null,
         null,
         null,
         null,
         null,
         null,
         null,
         null,
         null,
         null,
         null,
         null,
         null,
         null,
         null
        ],
        [
         "26",
         null,
         "17725",
         "ITEM_PURCHASED",
         "3340.0",
         "9.0",
         null,
         null,
         null,
         null,
         null,
         null,
         null,
         null,
         null,
         null,
         null,
         null,
         null,
         null,
         null,
         null,
         null,
         null,
         null,
         null,
         null,
         null,
         null,
         null,
         null,
         null,
         null,
         null,
         null
        ],
        [
         "27",
         null,
         "17992",
         "ITEM_UNDO",
         null,
         "3.0",
         "3340.0",
         "0.0",
         "0.0",
         null,
         null,
         null,
         null,
         null,
         null,
         null,
         null,
         null,
         null,
         null,
         null,
         null,
         null,
         null,
         null,
         null,
         null,
         null,
         null,
         null,
         null,
         null,
         null,
         null,
         null
        ],
        [
         "28",
         null,
         "18158",
         "ITEM_UNDO",
         null,
         "3.0",
         "0.0",
         "2003.0",
         "50.0",
         null,
         null,
         null,
         null,
         null,
         null,
         null,
         null,
         null,
         null,
         null,
         null,
         null,
         null,
         null,
         null,
         null,
         null,
         null,
         null,
         null,
         null,
         null,
         null,
         null,
         null
        ],
        [
         "29",
         null,
         "18292",
         "ITEM_UNDO",
         null,
         "3.0",
         "0.0",
         "2003.0",
         "50.0",
         null,
         null,
         null,
         null,
         null,
         null,
         null,
         null,
         null,
         null,
         null,
         null,
         null,
         null,
         null,
         null,
         null,
         null,
         null,
         null,
         null,
         null,
         null,
         null,
         null,
         null
        ],
        [
         "30",
         null,
         "18392",
         "ITEM_UNDO",
         null,
         "3.0",
         "0.0",
         "1056.0",
         "400.0",
         null,
         null,
         null,
         null,
         null,
         null,
         null,
         null,
         null,
         null,
         null,
         null,
         null,
         null,
         null,
         null,
         null,
         null,
         null,
         null,
         null,
         null,
         null,
         null,
         null,
         null
        ],
        [
         "31",
         null,
         "18825",
         "ITEM_PURCHASED",
         "1054.0",
         "3.0",
         null,
         null,
         null,
         null,
         null,
         null,
         null,
         null,
         null,
         null,
         null,
         null,
         null,
         null,
         null,
         null,
         null,
         null,
         null,
         null,
         null,
         null,
         null,
         null,
         null,
         null,
         null,
         null,
         null
        ],
        [
         "32",
         null,
         "18825",
         "ITEM_PURCHASED",
         "2003.0",
         "3.0",
         null,
         null,
         null,
         null,
         null,
         null,
         null,
         null,
         null,
         null,
         null,
         null,
         null,
         null,
         null,
         null,
         null,
         null,
         null,
         null,
         null,
         null,
         null,
         null,
         null,
         null,
         null,
         null,
         null
        ],
        [
         "33",
         null,
         "19193",
         "ITEM_PURCHASED",
         "3340.0",
         "3.0",
         null,
         null,
         null,
         null,
         null,
         null,
         null,
         null,
         null,
         null,
         null,
         null,
         null,
         null,
         null,
         null,
         null,
         null,
         null,
         null,
         null,
         null,
         null,
         null,
         null,
         null,
         null,
         null,
         null
        ],
        [
         "34",
         null,
         "19293",
         "ITEM_PURCHASED",
         "1056.0",
         "6.0",
         null,
         null,
         null,
         null,
         null,
         null,
         null,
         null,
         null,
         null,
         null,
         null,
         null,
         null,
         null,
         null,
         null,
         null,
         null,
         null,
         null,
         null,
         null,
         null,
         null,
         null,
         null,
         null,
         null
        ],
        [
         "35",
         null,
         "19293",
         "ITEM_PURCHASED",
         "2003.0",
         "6.0",
         null,
         null,
         null,
         null,
         null,
         null,
         null,
         null,
         null,
         null,
         null,
         null,
         null,
         null,
         null,
         null,
         null,
         null,
         null,
         null,
         null,
         null,
         null,
         null,
         null,
         null,
         null,
         null,
         null
        ],
        [
         "36",
         null,
         "19293",
         "ITEM_PURCHASED",
         "2003.0",
         "6.0",
         null,
         null,
         null,
         null,
         null,
         null,
         null,
         null,
         null,
         null,
         null,
         null,
         null,
         null,
         null,
         null,
         null,
         null,
         null,
         null,
         null,
         null,
         null,
         null,
         null,
         null,
         null,
         null,
         null
        ],
        [
         "37",
         null,
         "21526",
         "ITEM_PURCHASED",
         "1102.0",
         "7.0",
         null,
         null,
         null,
         null,
         null,
         null,
         null,
         null,
         null,
         null,
         null,
         null,
         null,
         null,
         null,
         null,
         null,
         null,
         null,
         null,
         null,
         null,
         null,
         null,
         null,
         null,
         null,
         null,
         null
        ],
        [
         "38",
         null,
         "22029",
         "ITEM_PURCHASED",
         "3340.0",
         "7.0",
         null,
         null,
         null,
         null,
         null,
         null,
         null,
         null,
         null,
         null,
         null,
         null,
         null,
         null,
         null,
         null,
         null,
         null,
         null,
         null,
         null,
         null,
         null,
         null,
         null,
         null,
         null,
         null,
         null
        ],
        [
         "39",
         null,
         "30561",
         "ITEM_PURCHASED",
         "1054.0",
         "8.0",
         null,
         null,
         null,
         null,
         null,
         null,
         null,
         null,
         null,
         null,
         null,
         null,
         null,
         null,
         null,
         null,
         null,
         null,
         null,
         null,
         null,
         null,
         null,
         null,
         null,
         null,
         null,
         null,
         null
        ],
        [
         "40",
         null,
         "31658",
         "ITEM_PURCHASED",
         "2003.0",
         "8.0",
         null,
         null,
         null,
         null,
         null,
         null,
         null,
         null,
         null,
         null,
         null,
         null,
         null,
         null,
         null,
         null,
         null,
         null,
         null,
         null,
         null,
         null,
         null,
         null,
         null,
         null,
         null,
         null,
         null
        ],
        [
         "41",
         null,
         "71669",
         "SKILL_LEVEL_UP",
         null,
         "7.0",
         null,
         null,
         null,
         "NORMAL",
         "1.0",
         null,
         null,
         null,
         null,
         null,
         null,
         null,
         null,
         null,
         null,
         null,
         null,
         null,
         null,
         null,
         null,
         null,
         null,
         null,
         null,
         null,
         null,
         null,
         null
        ],
        [
         "42",
         null,
         "75335",
         "SKILL_LEVEL_UP",
         null,
         "4.0",
         null,
         null,
         null,
         "NORMAL",
         "3.0",
         null,
         null,
         null,
         null,
         null,
         null,
         null,
         null,
         null,
         null,
         null,
         null,
         null,
         null,
         null,
         null,
         null,
         null,
         null,
         null,
         null,
         null,
         null,
         null
        ],
        [
         "43",
         null,
         "75903",
         "SKILL_LEVEL_UP",
         null,
         "2.0",
         null,
         null,
         null,
         "NORMAL",
         "1.0",
         null,
         null,
         null,
         null,
         null,
         null,
         null,
         null,
         null,
         null,
         null,
         null,
         null,
         null,
         null,
         null,
         null,
         null,
         null,
         null,
         null,
         null,
         null,
         null
        ],
        [
         "44",
         null,
         "86844",
         "SKILL_LEVEL_UP",
         null,
         "9.0",
         null,
         null,
         null,
         "NORMAL",
         "1.0",
         null,
         null,
         null,
         null,
         null,
         null,
         null,
         null,
         null,
         null,
         null,
         null,
         null,
         null,
         null,
         null,
         null,
         null,
         null,
         null,
         null,
         null,
         null,
         null
        ],
        [
         "45",
         null,
         "91345",
         "SKILL_LEVEL_UP",
         null,
         "3.0",
         null,
         null,
         null,
         "NORMAL",
         "1.0",
         null,
         null,
         null,
         null,
         null,
         null,
         null,
         null,
         null,
         null,
         null,
         null,
         null,
         null,
         null,
         null,
         null,
         null,
         null,
         null,
         null,
         null,
         null,
         null
        ],
        [
         "46",
         null,
         "91544",
         "SKILL_LEVEL_UP",
         null,
         "8.0",
         null,
         null,
         null,
         "NORMAL",
         "1.0",
         null,
         null,
         null,
         null,
         null,
         null,
         null,
         null,
         null,
         null,
         null,
         null,
         null,
         null,
         null,
         null,
         null,
         null,
         null,
         null,
         null,
         null,
         null,
         null
        ],
        [
         "47",
         null,
         "96851",
         "SKILL_LEVEL_UP",
         null,
         "1.0",
         null,
         null,
         null,
         "NORMAL",
         "1.0",
         null,
         null,
         null,
         null,
         null,
         null,
         null,
         null,
         null,
         null,
         null,
         null,
         null,
         null,
         null,
         null,
         null,
         null,
         null,
         null,
         null,
         null,
         null,
         null
        ],
        [
         "48",
         null,
         "100918",
         "SKILL_LEVEL_UP",
         null,
         "6.0",
         null,
         null,
         null,
         "NORMAL",
         "1.0",
         null,
         null,
         null,
         null,
         null,
         null,
         null,
         null,
         null,
         null,
         null,
         null,
         null,
         null,
         null,
         null,
         null,
         null,
         null,
         null,
         null,
         null,
         null,
         null
        ],
        [
         "49",
         null,
         "103048",
         "SKILL_LEVEL_UP",
         null,
         "5.0",
         null,
         null,
         null,
         "NORMAL",
         "1.0",
         null,
         null,
         null,
         null,
         null,
         null,
         null,
         null,
         null,
         null,
         null,
         null,
         null,
         null,
         null,
         null,
         null,
         null,
         null,
         null,
         null,
         null,
         null,
         null
        ]
       ],
       "shape": {
        "columns": 34,
        "rows": 956
       }
      },
      "text/html": [
       "<div>\n",
       "<style scoped>\n",
       "    .dataframe tbody tr th:only-of-type {\n",
       "        vertical-align: middle;\n",
       "    }\n",
       "\n",
       "    .dataframe tbody tr th {\n",
       "        vertical-align: top;\n",
       "    }\n",
       "\n",
       "    .dataframe thead th {\n",
       "        text-align: right;\n",
       "    }\n",
       "</style>\n",
       "<table border=\"1\" class=\"dataframe\">\n",
       "  <thead>\n",
       "    <tr style=\"text-align: right;\">\n",
       "      <th></th>\n",
       "      <th>realTimestamp</th>\n",
       "      <th>timestamp</th>\n",
       "      <th>type</th>\n",
       "      <th>itemId</th>\n",
       "      <th>participantId</th>\n",
       "      <th>afterId</th>\n",
       "      <th>beforeId</th>\n",
       "      <th>goldGain</th>\n",
       "      <th>levelUpType</th>\n",
       "      <th>skillSlot</th>\n",
       "      <th>...</th>\n",
       "      <th>laneType</th>\n",
       "      <th>teamId</th>\n",
       "      <th>killerTeamId</th>\n",
       "      <th>monsterSubType</th>\n",
       "      <th>monsterType</th>\n",
       "      <th>buildingType</th>\n",
       "      <th>towerType</th>\n",
       "      <th>actualStartTime</th>\n",
       "      <th>gameId</th>\n",
       "      <th>winningTeam</th>\n",
       "    </tr>\n",
       "  </thead>\n",
       "  <tbody>\n",
       "    <tr>\n",
       "      <th>0</th>\n",
       "      <td>1.712859e+12</td>\n",
       "      <td>0</td>\n",
       "      <td>PAUSE_END</td>\n",
       "      <td>NaN</td>\n",
       "      <td>NaN</td>\n",
       "      <td>NaN</td>\n",
       "      <td>NaN</td>\n",
       "      <td>NaN</td>\n",
       "      <td>NaN</td>\n",
       "      <td>NaN</td>\n",
       "      <td>...</td>\n",
       "      <td>NaN</td>\n",
       "      <td>NaN</td>\n",
       "      <td>NaN</td>\n",
       "      <td>NaN</td>\n",
       "      <td>NaN</td>\n",
       "      <td>NaN</td>\n",
       "      <td>NaN</td>\n",
       "      <td>NaN</td>\n",
       "      <td>NaN</td>\n",
       "      <td>NaN</td>\n",
       "    </tr>\n",
       "    <tr>\n",
       "      <th>1</th>\n",
       "      <td>NaN</td>\n",
       "      <td>2036</td>\n",
       "      <td>ITEM_PURCHASED</td>\n",
       "      <td>3865.0</td>\n",
       "      <td>10.0</td>\n",
       "      <td>NaN</td>\n",
       "      <td>NaN</td>\n",
       "      <td>NaN</td>\n",
       "      <td>NaN</td>\n",
       "      <td>NaN</td>\n",
       "      <td>...</td>\n",
       "      <td>NaN</td>\n",
       "      <td>NaN</td>\n",
       "      <td>NaN</td>\n",
       "      <td>NaN</td>\n",
       "      <td>NaN</td>\n",
       "      <td>NaN</td>\n",
       "      <td>NaN</td>\n",
       "      <td>NaN</td>\n",
       "      <td>NaN</td>\n",
       "      <td>NaN</td>\n",
       "    </tr>\n",
       "    <tr>\n",
       "      <th>2</th>\n",
       "      <td>NaN</td>\n",
       "      <td>2036</td>\n",
       "      <td>ITEM_PURCHASED</td>\n",
       "      <td>2003.0</td>\n",
       "      <td>10.0</td>\n",
       "      <td>NaN</td>\n",
       "      <td>NaN</td>\n",
       "      <td>NaN</td>\n",
       "      <td>NaN</td>\n",
       "      <td>NaN</td>\n",
       "      <td>...</td>\n",
       "      <td>NaN</td>\n",
       "      <td>NaN</td>\n",
       "      <td>NaN</td>\n",
       "      <td>NaN</td>\n",
       "      <td>NaN</td>\n",
       "      <td>NaN</td>\n",
       "      <td>NaN</td>\n",
       "      <td>NaN</td>\n",
       "      <td>NaN</td>\n",
       "      <td>NaN</td>\n",
       "    </tr>\n",
       "    <tr>\n",
       "      <th>3</th>\n",
       "      <td>NaN</td>\n",
       "      <td>2036</td>\n",
       "      <td>ITEM_PURCHASED</td>\n",
       "      <td>2003.0</td>\n",
       "      <td>10.0</td>\n",
       "      <td>NaN</td>\n",
       "      <td>NaN</td>\n",
       "      <td>NaN</td>\n",
       "      <td>NaN</td>\n",
       "      <td>NaN</td>\n",
       "      <td>...</td>\n",
       "      <td>NaN</td>\n",
       "      <td>NaN</td>\n",
       "      <td>NaN</td>\n",
       "      <td>NaN</td>\n",
       "      <td>NaN</td>\n",
       "      <td>NaN</td>\n",
       "      <td>NaN</td>\n",
       "      <td>NaN</td>\n",
       "      <td>NaN</td>\n",
       "      <td>NaN</td>\n",
       "    </tr>\n",
       "    <tr>\n",
       "      <th>4</th>\n",
       "      <td>NaN</td>\n",
       "      <td>2336</td>\n",
       "      <td>ITEM_PURCHASED</td>\n",
       "      <td>1102.0</td>\n",
       "      <td>2.0</td>\n",
       "      <td>NaN</td>\n",
       "      <td>NaN</td>\n",
       "      <td>NaN</td>\n",
       "      <td>NaN</td>\n",
       "      <td>NaN</td>\n",
       "      <td>...</td>\n",
       "      <td>NaN</td>\n",
       "      <td>NaN</td>\n",
       "      <td>NaN</td>\n",
       "      <td>NaN</td>\n",
       "      <td>NaN</td>\n",
       "      <td>NaN</td>\n",
       "      <td>NaN</td>\n",
       "      <td>NaN</td>\n",
       "      <td>NaN</td>\n",
       "      <td>NaN</td>\n",
       "    </tr>\n",
       "    <tr>\n",
       "      <th>...</th>\n",
       "      <td>...</td>\n",
       "      <td>...</td>\n",
       "      <td>...</td>\n",
       "      <td>...</td>\n",
       "      <td>...</td>\n",
       "      <td>...</td>\n",
       "      <td>...</td>\n",
       "      <td>...</td>\n",
       "      <td>...</td>\n",
       "      <td>...</td>\n",
       "      <td>...</td>\n",
       "      <td>...</td>\n",
       "      <td>...</td>\n",
       "      <td>...</td>\n",
       "      <td>...</td>\n",
       "      <td>...</td>\n",
       "      <td>...</td>\n",
       "      <td>...</td>\n",
       "      <td>...</td>\n",
       "      <td>...</td>\n",
       "      <td>...</td>\n",
       "    </tr>\n",
       "    <tr>\n",
       "      <th>951</th>\n",
       "      <td>NaN</td>\n",
       "      <td>1727532</td>\n",
       "      <td>CHAMPION_SPECIAL_KILL</td>\n",
       "      <td>NaN</td>\n",
       "      <td>NaN</td>\n",
       "      <td>NaN</td>\n",
       "      <td>NaN</td>\n",
       "      <td>NaN</td>\n",
       "      <td>NaN</td>\n",
       "      <td>NaN</td>\n",
       "      <td>...</td>\n",
       "      <td>NaN</td>\n",
       "      <td>NaN</td>\n",
       "      <td>NaN</td>\n",
       "      <td>NaN</td>\n",
       "      <td>NaN</td>\n",
       "      <td>NaN</td>\n",
       "      <td>NaN</td>\n",
       "      <td>NaN</td>\n",
       "      <td>NaN</td>\n",
       "      <td>NaN</td>\n",
       "    </tr>\n",
       "    <tr>\n",
       "      <th>952</th>\n",
       "      <td>NaN</td>\n",
       "      <td>1727532</td>\n",
       "      <td>LEVEL_UP</td>\n",
       "      <td>NaN</td>\n",
       "      <td>4.0</td>\n",
       "      <td>NaN</td>\n",
       "      <td>NaN</td>\n",
       "      <td>NaN</td>\n",
       "      <td>NaN</td>\n",
       "      <td>NaN</td>\n",
       "      <td>...</td>\n",
       "      <td>NaN</td>\n",
       "      <td>NaN</td>\n",
       "      <td>NaN</td>\n",
       "      <td>NaN</td>\n",
       "      <td>NaN</td>\n",
       "      <td>NaN</td>\n",
       "      <td>NaN</td>\n",
       "      <td>NaN</td>\n",
       "      <td>NaN</td>\n",
       "      <td>NaN</td>\n",
       "    </tr>\n",
       "    <tr>\n",
       "      <th>953</th>\n",
       "      <td>NaN</td>\n",
       "      <td>1727797</td>\n",
       "      <td>CHAMPION_KILL</td>\n",
       "      <td>NaN</td>\n",
       "      <td>NaN</td>\n",
       "      <td>NaN</td>\n",
       "      <td>NaN</td>\n",
       "      <td>NaN</td>\n",
       "      <td>NaN</td>\n",
       "      <td>NaN</td>\n",
       "      <td>...</td>\n",
       "      <td>NaN</td>\n",
       "      <td>NaN</td>\n",
       "      <td>NaN</td>\n",
       "      <td>NaN</td>\n",
       "      <td>NaN</td>\n",
       "      <td>NaN</td>\n",
       "      <td>NaN</td>\n",
       "      <td>NaN</td>\n",
       "      <td>NaN</td>\n",
       "      <td>NaN</td>\n",
       "    </tr>\n",
       "    <tr>\n",
       "      <th>954</th>\n",
       "      <td>NaN</td>\n",
       "      <td>1727797</td>\n",
       "      <td>CHAMPION_SPECIAL_KILL</td>\n",
       "      <td>NaN</td>\n",
       "      <td>NaN</td>\n",
       "      <td>NaN</td>\n",
       "      <td>NaN</td>\n",
       "      <td>NaN</td>\n",
       "      <td>NaN</td>\n",
       "      <td>NaN</td>\n",
       "      <td>...</td>\n",
       "      <td>NaN</td>\n",
       "      <td>NaN</td>\n",
       "      <td>NaN</td>\n",
       "      <td>NaN</td>\n",
       "      <td>NaN</td>\n",
       "      <td>NaN</td>\n",
       "      <td>NaN</td>\n",
       "      <td>NaN</td>\n",
       "      <td>NaN</td>\n",
       "      <td>NaN</td>\n",
       "    </tr>\n",
       "    <tr>\n",
       "      <th>955</th>\n",
       "      <td>1.712861e+12</td>\n",
       "      <td>1734257</td>\n",
       "      <td>GAME_END</td>\n",
       "      <td>NaN</td>\n",
       "      <td>NaN</td>\n",
       "      <td>NaN</td>\n",
       "      <td>NaN</td>\n",
       "      <td>NaN</td>\n",
       "      <td>NaN</td>\n",
       "      <td>NaN</td>\n",
       "      <td>...</td>\n",
       "      <td>NaN</td>\n",
       "      <td>NaN</td>\n",
       "      <td>NaN</td>\n",
       "      <td>NaN</td>\n",
       "      <td>NaN</td>\n",
       "      <td>NaN</td>\n",
       "      <td>NaN</td>\n",
       "      <td>NaN</td>\n",
       "      <td>4.971083e+09</td>\n",
       "      <td>100.0</td>\n",
       "    </tr>\n",
       "  </tbody>\n",
       "</table>\n",
       "<p>956 rows × 34 columns</p>\n",
       "</div>"
      ],
      "text/plain": [
       "     realTimestamp  timestamp                   type  itemId  participantId  \\\n",
       "0     1.712859e+12          0              PAUSE_END     NaN            NaN   \n",
       "1              NaN       2036         ITEM_PURCHASED  3865.0           10.0   \n",
       "2              NaN       2036         ITEM_PURCHASED  2003.0           10.0   \n",
       "3              NaN       2036         ITEM_PURCHASED  2003.0           10.0   \n",
       "4              NaN       2336         ITEM_PURCHASED  1102.0            2.0   \n",
       "..             ...        ...                    ...     ...            ...   \n",
       "951            NaN    1727532  CHAMPION_SPECIAL_KILL     NaN            NaN   \n",
       "952            NaN    1727532               LEVEL_UP     NaN            4.0   \n",
       "953            NaN    1727797          CHAMPION_KILL     NaN            NaN   \n",
       "954            NaN    1727797  CHAMPION_SPECIAL_KILL     NaN            NaN   \n",
       "955   1.712861e+12    1734257               GAME_END     NaN            NaN   \n",
       "\n",
       "     afterId  beforeId  goldGain levelUpType  skillSlot  ...  laneType  \\\n",
       "0        NaN       NaN       NaN         NaN        NaN  ...       NaN   \n",
       "1        NaN       NaN       NaN         NaN        NaN  ...       NaN   \n",
       "2        NaN       NaN       NaN         NaN        NaN  ...       NaN   \n",
       "3        NaN       NaN       NaN         NaN        NaN  ...       NaN   \n",
       "4        NaN       NaN       NaN         NaN        NaN  ...       NaN   \n",
       "..       ...       ...       ...         ...        ...  ...       ...   \n",
       "951      NaN       NaN       NaN         NaN        NaN  ...       NaN   \n",
       "952      NaN       NaN       NaN         NaN        NaN  ...       NaN   \n",
       "953      NaN       NaN       NaN         NaN        NaN  ...       NaN   \n",
       "954      NaN       NaN       NaN         NaN        NaN  ...       NaN   \n",
       "955      NaN       NaN       NaN         NaN        NaN  ...       NaN   \n",
       "\n",
       "     teamId killerTeamId  monsterSubType  monsterType  buildingType towerType  \\\n",
       "0       NaN          NaN             NaN          NaN           NaN       NaN   \n",
       "1       NaN          NaN             NaN          NaN           NaN       NaN   \n",
       "2       NaN          NaN             NaN          NaN           NaN       NaN   \n",
       "3       NaN          NaN             NaN          NaN           NaN       NaN   \n",
       "4       NaN          NaN             NaN          NaN           NaN       NaN   \n",
       "..      ...          ...             ...          ...           ...       ...   \n",
       "951     NaN          NaN             NaN          NaN           NaN       NaN   \n",
       "952     NaN          NaN             NaN          NaN           NaN       NaN   \n",
       "953     NaN          NaN             NaN          NaN           NaN       NaN   \n",
       "954     NaN          NaN             NaN          NaN           NaN       NaN   \n",
       "955     NaN          NaN             NaN          NaN           NaN       NaN   \n",
       "\n",
       "     actualStartTime        gameId winningTeam  \n",
       "0                NaN           NaN         NaN  \n",
       "1                NaN           NaN         NaN  \n",
       "2                NaN           NaN         NaN  \n",
       "3                NaN           NaN         NaN  \n",
       "4                NaN           NaN         NaN  \n",
       "..               ...           ...         ...  \n",
       "951              NaN           NaN         NaN  \n",
       "952              NaN           NaN         NaN  \n",
       "953              NaN           NaN         NaN  \n",
       "954              NaN           NaN         NaN  \n",
       "955              NaN  4.971083e+09       100.0  \n",
       "\n",
       "[956 rows x 34 columns]"
      ]
     },
     "metadata": {},
     "output_type": "display_data"
    }
   ],
   "source": [
    "display(event_df)"
   ]
  }
 ],
 "metadata": {
  "kernelspec": {
   "display_name": "Python 3",
   "language": "python",
   "name": "python3"
  },
  "language_info": {
   "codemirror_mode": {
    "name": "ipython",
    "version": 3
   },
   "file_extension": ".py",
   "mimetype": "text/x-python",
   "name": "python",
   "nbconvert_exporter": "python",
   "pygments_lexer": "ipython3",
   "version": "3.9.6"
  }
 },
 "nbformat": 4,
 "nbformat_minor": 5
}
